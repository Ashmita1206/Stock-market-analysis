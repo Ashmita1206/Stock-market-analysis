{
 "cells": [
  {
   "cell_type": "markdown",
   "id": "31be09d6-3ca2-4269-a3a8-f8e8cde03aaa",
   "metadata": {},
   "source": [
    "**PROJECT FOR DA**"
   ]
  },
  {
   "cell_type": "code",
   "execution_count": 45,
   "id": "997d4712-5083-4ef9-9e63-ff06e9d40e3e",
   "metadata": {},
   "outputs": [
    {
     "name": "stderr",
     "output_type": "stream",
     "text": [
      "[*********************100%***********************]  1 of 1 completed\n",
      "[*********************100%***********************]  1 of 1 completed\n"
     ]
    },
    {
     "data": {
      "text/html": [
       "<div>\n",
       "<style scoped>\n",
       "    .dataframe tbody tr th:only-of-type {\n",
       "        vertical-align: middle;\n",
       "    }\n",
       "\n",
       "    .dataframe tbody tr th {\n",
       "        vertical-align: top;\n",
       "    }\n",
       "\n",
       "    .dataframe thead th {\n",
       "        text-align: right;\n",
       "    }\n",
       "</style>\n",
       "<table border=\"1\" class=\"dataframe\">\n",
       "  <thead>\n",
       "    <tr style=\"text-align: right;\">\n",
       "      <th></th>\n",
       "      <th>^NSEI</th>\n",
       "      <th>BAJAJFINSV.NS</th>\n",
       "    </tr>\n",
       "    <tr>\n",
       "      <th>Date</th>\n",
       "      <th></th>\n",
       "      <th></th>\n",
       "    </tr>\n",
       "  </thead>\n",
       "  <tbody>\n",
       "    <tr>\n",
       "      <th>2010-01-04</th>\n",
       "      <td>5232.200195</td>\n",
       "      <td>35.314632</td>\n",
       "    </tr>\n",
       "    <tr>\n",
       "      <th>2010-01-05</th>\n",
       "      <td>5277.899902</td>\n",
       "      <td>35.393230</td>\n",
       "    </tr>\n",
       "    <tr>\n",
       "      <th>2010-01-06</th>\n",
       "      <td>5281.799805</td>\n",
       "      <td>34.558136</td>\n",
       "    </tr>\n",
       "    <tr>\n",
       "      <th>2010-01-07</th>\n",
       "      <td>5263.100098</td>\n",
       "      <td>34.287960</td>\n",
       "    </tr>\n",
       "    <tr>\n",
       "      <th>2010-01-08</th>\n",
       "      <td>5244.750000</td>\n",
       "      <td>34.386208</td>\n",
       "    </tr>\n",
       "  </tbody>\n",
       "</table>\n",
       "</div>"
      ],
      "text/plain": [
       "                  ^NSEI  BAJAJFINSV.NS\n",
       "Date                                  \n",
       "2010-01-04  5232.200195      35.314632\n",
       "2010-01-05  5277.899902      35.393230\n",
       "2010-01-06  5281.799805      34.558136\n",
       "2010-01-07  5263.100098      34.287960\n",
       "2010-01-08  5244.750000      34.386208"
      ]
     },
     "execution_count": 45,
     "metadata": {},
     "output_type": "execute_result"
    }
   ],
   "source": [
    "import pandas as pd\n",
    "import numpy as np\n",
    "import yfinance as yf\n",
    "import datetime as dt\n",
    "\n",
    "ticker = ['^NSEI','BAJAJFINSV.NS'] #Nifty 50 and HDFC\n",
    "start = dt.datetime(2010, 1, 1)\n",
    "end = dt.datetime(2024, 12, 31)\n",
    "\n",
    "data = {}\n",
    "df = pd.DataFrame(data)\n",
    "for i in ticker:\n",
    "    data[i] = yf.download(i,start,end)['Close']\n",
    "\n",
    "df = pd.concat(data,axis=1)\n",
    "df.head()\n"
   ]
  },
  {
   "cell_type": "code",
   "execution_count": null,
   "id": "92c87d1c-77fd-4ee1-91dd-8d437e891ab2",
   "metadata": {},
   "outputs": [],
   "source": [
    "df.info()"
   ]
  },
  {
   "cell_type": "markdown",
   "id": "db94627a-4117-4641-aa2f-4cd9c0465648",
   "metadata": {},
   "source": [
    "**DATA CLEANING**"
   ]
  },
  {
   "cell_type": "code",
   "execution_count": 47,
   "id": "b79a0bfb-9cec-4d1d-bec5-d94685d3abf7",
   "metadata": {},
   "outputs": [
    {
     "data": {
      "text/plain": [
       "^NSEI             True\n",
       "BAJAJFINSV.NS    False\n",
       "dtype: bool"
      ]
     },
     "execution_count": 47,
     "metadata": {},
     "output_type": "execute_result"
    }
   ],
   "source": [
    "df.isna().any()\n"
   ]
  },
  {
   "cell_type": "code",
   "execution_count": 49,
   "id": "12202cbd-21e9-4c45-9056-3041d0d1b98a",
   "metadata": {},
   "outputs": [
    {
     "data": {
      "text/plain": [
       "^NSEI            False\n",
       "BAJAJFINSV.NS    False\n",
       "dtype: bool"
      ]
     },
     "execution_count": 49,
     "metadata": {},
     "output_type": "execute_result"
    }
   ],
   "source": [
    "missing_values = df.dropna()\n",
    "missing_values.isna().any()"
   ]
  },
  {
   "cell_type": "code",
   "execution_count": 51,
   "id": "8e843a02-3109-40da-a2f7-525bee2d6991",
   "metadata": {},
   "outputs": [
    {
     "data": {
      "text/plain": [
       "False"
      ]
     },
     "execution_count": 51,
     "metadata": {},
     "output_type": "execute_result"
    }
   ],
   "source": [
    "# Checking for missing values in the dataset\n",
    "missing_values = df.isnull().sum()\n",
    "\n",
    "# Display missing values\n",
    "missing_values.isna().any()"
   ]
  },
  {
   "cell_type": "code",
   "execution_count": 53,
   "id": "20c06eda-1c6d-4e45-bbd9-9e3a0f54f669",
   "metadata": {},
   "outputs": [
    {
     "name": "stdout",
     "output_type": "stream",
     "text": [
      "missing values:-\n",
      "                    ^NSEI  BAJAJFINSV.NS\n",
      "Date                                   \n",
      "2010-01-04   5232.200195      35.314632\n",
      "2010-01-05   5277.899902      35.393230\n",
      "2010-01-06   5281.799805      34.558136\n",
      "2010-01-07   5263.100098      34.287960\n",
      "2010-01-08   5244.750000      34.386208\n",
      "...                  ...            ...\n",
      "2024-11-29  24131.099609    1579.949951\n",
      "2024-12-02  24276.050781    1596.650024\n",
      "2024-12-03  24457.150391    1607.099976\n",
      "2024-12-04  24467.449219    1628.099976\n",
      "2024-12-05  24708.400391    1644.099976\n",
      "\n",
      "[3663 rows x 2 columns]\n",
      "dataframe:-\n",
      "                    ^NSEI  BAJAJFINSV.NS\n",
      "Date                                   \n",
      "2010-01-04   5232.200195      35.314632\n",
      "2010-01-05   5277.899902      35.393230\n",
      "2010-01-06   5281.799805      34.558136\n",
      "2010-01-07   5263.100098      34.287960\n",
      "2010-01-08   5244.750000      34.386208\n",
      "...                  ...            ...\n",
      "2024-11-29  24131.099609    1579.949951\n",
      "2024-12-02  24276.050781    1596.650024\n",
      "2024-12-03  24457.150391    1607.099976\n",
      "2024-12-04  24467.449219    1628.099976\n",
      "2024-12-05  24708.400391    1644.099976\n",
      "\n",
      "[3683 rows x 2 columns]\n"
     ]
    }
   ],
   "source": [
    "missing_values = df.dropna()\n",
    "print(\"missing values:-\\n\",missing_values)\n",
    "print(\"dataframe:-\\n\",df)"
   ]
  },
  {
   "cell_type": "markdown",
   "id": "7c7f1e37-8a45-46e1-8236-a58e30b8bce1",
   "metadata": {},
   "source": [
    "**DESCRIPTIVE STATISTICS**"
   ]
  },
  {
   "cell_type": "code",
   "execution_count": null,
   "id": "8b28648a-8284-4921-b200-ca5e8b68ce90",
   "metadata": {},
   "outputs": [],
   "source": [
    "missing_values.describe()"
   ]
  },
  {
   "cell_type": "markdown",
   "id": "8b0740fc-d39e-487a-aece-fb150ac302d4",
   "metadata": {},
   "source": [
    "*MEDIAN*"
   ]
  },
  {
   "cell_type": "code",
   "execution_count": null,
   "id": "6b95bf14-163b-4f27-9531-c019fd90b915",
   "metadata": {},
   "outputs": [],
   "source": [
    "missing_values.median()\n"
   ]
  },
  {
   "cell_type": "markdown",
   "id": "c8ead250-0b74-4533-8fd9-f6a76807be56",
   "metadata": {},
   "source": [
    "*MODE*"
   ]
  },
  {
   "cell_type": "code",
   "execution_count": null,
   "id": "19d9a688-cd99-4acd-b63c-ca1ad8b304ac",
   "metadata": {},
   "outputs": [],
   "source": [
    "missing_values.mode().iloc[0]\n"
   ]
  },
  {
   "cell_type": "markdown",
   "id": "57ad5900-d7f7-4457-8a98-80360ea662b2",
   "metadata": {},
   "source": [
    "*CORRELATION*"
   ]
  },
  {
   "cell_type": "code",
   "execution_count": null,
   "id": "15b8f2a8-be23-4e8b-a8a2-3748f832c7bf",
   "metadata": {},
   "outputs": [],
   "source": [
    "missing_values.corr()"
   ]
  },
  {
   "cell_type": "markdown",
   "id": "aabd43b9-482e-4306-b6b9-14f13ef570fb",
   "metadata": {},
   "source": [
    "*COVARIANCE*"
   ]
  },
  {
   "cell_type": "code",
   "execution_count": null,
   "id": "0e62a7d4-0a04-4197-9e9c-26db832541e5",
   "metadata": {},
   "outputs": [],
   "source": [
    "missing_values.cov"
   ]
  },
  {
   "cell_type": "markdown",
   "id": "5433f9e3",
   "metadata": {},
   "source": [
    "**SKEWNESS** AND **KURTOSIS**"
   ]
  },
  {
   "cell_type": "code",
   "execution_count": null,
   "id": "6ee392f6-1ecc-4a89-9912-6e45e0d2ccc5",
   "metadata": {},
   "outputs": [],
   "source": [
    "iskew = missing_values.skew()\n",
    "ikurt = missing_values.kurt()\n",
    "\n",
    "print (\"SKEWNESS\\n\",iskew)\n",
    "print(\"KURTOSIS\\n\",ikurt)\n",
    "\n",
    "\n",
    "mean1= missing_values['^NSEI'].describe().loc[['mean']]\n",
    "print(\"NSEI MEAN :-\\n\",mean1)\n",
    "mean2= missing_values['BAJAJFINSV.NS'].describe().loc[['mean']]\n",
    "print(\"BAJAJFINSV MEAN :-\\n\",mean2)\n",
    "     \n",
    "std1=missing_values['^NSEI'].describe().loc[['std']]\n",
    "print(\"NSEI STD :-\\n\",std1)\n",
    "std2=missing_values['BAJAJFINSV.NS'].describe().loc[['std']]\n",
    "print(\"BAJAJFINSV STD :-\\n\",std2)\n",
    "zscore1 = (missing_values['^NSEI'] - mean1) / std1\n",
    "zscore2 = (missing_values['BAJAJFINSV.NS'] - mean2) / std2"
   ]
  },
  {
   "cell_type": "markdown",
   "id": "285f34c5",
   "metadata": {},
   "source": [
    "**Z-SCORE CALCULATION***(OF THE ENTRE DATA)*"
   ]
  },
  {
   "cell_type": "code",
   "execution_count": 55,
   "id": "c55d7d9b-5196-4a58-b80f-8e88f51fad68",
   "metadata": {
    "scrolled": true
   },
   "outputs": [
    {
     "name": "stdout",
     "output_type": "stream",
     "text": [
      "Z-Scores for ^NSEI:\n",
      " 2.5625804423384926\n",
      "Z-Scores for BAJAJFINSV.NS:\n",
      " 1.7304966009340952\n"
     ]
    }
   ],
   "source": [
    "# Calculate mean and standard deviation for z-score\n",
    "data1=missing_values['^NSEI'].iloc[-1]\n",
    "data2=missing_values['BAJAJFINSV.NS'].iloc[-1]\n",
    "\n",
    "\n",
    "mean1 = missing_values['^NSEI'].mean()\n",
    "std1 = missing_values['^NSEI'].std()\n",
    "mean2  = missing_values['BAJAJFINSV.NS'].mean()\n",
    "std2 = missing_values['BAJAJFINSV.NS'].std()\n",
    "\n",
    "#formula of z-score \n",
    "zscore1 = (data1 - mean1) / std1\n",
    "zscore2 = (data2 - mean2) / std2\n",
    "#print the z-score of the entire data\n",
    "print(\"Z-Scores for ^NSEI:\\n\", zscore1)\n",
    "print(\"Z-Scores for BAJAJFINSV.NS:\\n\", zscore2)\n"
   ]
  },
  {
   "cell_type": "markdown",
   "id": "2e992714-a0f3-41d4-a8a9-fbae873e0338",
   "metadata": {},
   "source": [
    "**Z-SCORE CALCULATION***(OF ANY RANDOM SAMPLE SELECTED FROM THE DATA)*"
   ]
  },
  {
   "cell_type": "code",
   "execution_count": 89,
   "id": "dd123ffb-d78d-49e8-8e2d-eff0929e5dea",
   "metadata": {},
   "outputs": [
    {
     "name": "stdout",
     "output_type": "stream",
     "text": [
      "Z-Scores for ^NSEI:\n",
      " Date\n",
      "2019-04-09   -0.323018\n",
      "2010-12-09   -1.274578\n",
      "2021-12-30    0.568368\n",
      "2024-03-22    1.356758\n",
      "2019-04-03   -0.327529\n",
      "Name: ^NSEI, dtype: float64\n",
      "Z-Scores for BAJAJFINSV.NS.NS:\n",
      " Date\n",
      "2019-04-09   -0.313038\n",
      "2010-12-09   -1.357868\n",
      "2021-12-30    1.012309\n",
      "2024-03-22    0.968265\n",
      "2019-04-03   -0.309668\n",
      "Name: BAJAJFINSV.NS, dtype: float64\n"
     ]
    }
   ],
   "source": [
    "import random\n",
    "# Randomly sample 5 indices\n",
    "sample = random.sample(range(len(df)), 5)\n",
    "\n",
    "# Fetch data for the selected samples\n",
    "data1 = df['^NSEI'].iloc[sample]\n",
    "data2 = df['BAJAJFINSV.NS'].iloc[sample]\n",
    "\n",
    "# Calculate mean and standard deviation for z-score\n",
    "mean1 = data1.mean()\n",
    "std1 = data1.std()\n",
    "mean2 = data2.mean()\n",
    "std2 = data2.std()\n",
    "\n",
    "zscore1 = (data1 - mean1) / std1\n",
    "zscore2 = (data2 - mean2) / std2\n",
    "\n",
    "print(\"Z-Scores for ^NSEI:\\n\", zscore1)\n",
    "print(\"Z-Scores for BAJAJFINSV.NS.NS:\\n\", zscore2)\n"
   ]
  },
  {
   "cell_type": "code",
   "execution_count": 83,
   "id": "f291d7a5-6b95-4ff0-9ba4-ca7edf56ea81",
   "metadata": {},
   "outputs": [
    {
     "name": "stdout",
     "output_type": "stream",
     "text": [
      "Combined Random 5 Z-Scores:\n",
      "        Index  ^NSEI Z-Score  BAJAJFINSV.NS Z-Score\n",
      "0 2024-07-19       1.633530               1.481123\n",
      "1 2014-03-31      -0.867490              -0.920202\n",
      "2 2017-11-23      -0.356173              -0.251906\n",
      "3 2015-06-30      -0.633995              -0.805776\n",
      "4 2021-04-26       0.224127               0.496760\n"
     ]
    }
   ],
   "source": [
    "import pandas as pd\n",
    "import numpy as np\n",
    "\n",
    "# Assuming zscore1 and zscore2 are already calculated\n",
    "# Randomly select 5 z-scores along with their indices for both columns\n",
    "\n",
    "zscore1_sample = zscore1.sample(n=5, random_state=70).reset_index()\n",
    "zscore1_sample.columns = ['Index', '^NSEI Z-Score']\n",
    "\n",
    "zscore2_sample = zscore2.sample(n=5, random_state=70).reset_index()\n",
    "zscore2_sample.columns = ['Index', 'BAJAJFINSV.NS Z-Score']\n",
    "\n",
    "# Merge the two samples on the 'Index' column\n",
    "combined_zscores = pd.merge(zscore1_sample, zscore2_sample, on='Index', how='inner')\n",
    "\n",
    "print(\"Combined Random 5 Z-Scores:\\n\", combined_zscores)\n"
   ]
  },
  {
   "cell_type": "markdown",
   "id": "a1094c60-82ef-4a04-bbe8-5c8f88d9e584",
   "metadata": {},
   "source": [
    "**EXPLANATION**\n",
    "=>pd.merge(): Combines two sets of data based on a common column ('Index').\n",
    "=>on='Index': We match data based on the 'Index' column.\n",
    "=>how='inner': Only rows with matching 'Index' values from both datasets are kept."
   ]
  },
  {
   "cell_type": "code",
   "execution_count": 109,
   "id": "8faee8b2-df30-462a-9f14-b3bf04a43507",
   "metadata": {},
   "outputs": [
    {
     "name": "stdout",
     "output_type": "stream",
     "text": [
      "Sorted Combined Z-Scores (by ^NSEI Z-Score)\n",
      "   ^NSEI Z-Score  BAJAJFINSV.NS Z-Score\n",
      "2       1.356758               0.968265\n",
      "4       0.568368               1.012309\n",
      "3      -0.323018              -0.313038\n",
      "0      -0.327529              -0.309668\n",
      "1      -1.274578              -1.357868\n",
      "Interpretation of Z-Scores:\n",
      "Interpretation:  | ^NSEI Z-Score is greater than the mean | BAJAJFINSV.NS Z-Score is greater than the mean\n",
      "Interpretation:  | ^NSEI Z-Score is greater than the mean | BAJAJFINSV.NS Z-Score is greater than the mean\n",
      "Interpretation:  | ^NSEI Z-Score is less than the mean | BAJAJFINSV.NS Z-Score is less than the mean\n",
      "Interpretation:  | ^NSEI Z-Score is less than the mean | BAJAJFINSV.NS Z-Score is less than the mean\n",
      "Interpretation:  | ^NSEI Z-Score is less than the mean | BAJAJFINSV.NS Z-Score is less than the mean\n"
     ]
    }
   ],
   "source": [
    "# Sample 5 random points from zscore1 and zscore2\n",
    "zscore1_sample = zscore1.sample(n=5, random_state=70).reset_index(drop=True)\n",
    "zscore1_sample.name = '^NSEI Z-Score'\n",
    "\n",
    "zscore2_sample = zscore2.sample(n=5, random_state=70).reset_index(drop=True)\n",
    "zscore2_sample.name = 'BAJAJFINSV.NS Z-Score'\n",
    "\n",
    "# Combine the two z-scores into a DataFrame\n",
    "combined_zscores = pd.DataFrame({\n",
    "    '^NSEI Z-Score': zscore1_sample,\n",
    "    'BAJAJFINSV.NS Z-Score': zscore2_sample\n",
    "})\n",
    "\n",
    "# Sort combined z-scores by one of the columns (e.g., by ^NSEI Z-Score)\n",
    "combined_zscores = combined_zscores.sort_values(by='^NSEI Z-Score', ascending=False)\n",
    "\n",
    "# Print sorted combined z-scores\n",
    "print(\"Sorted Combined Z-Scores (by ^NSEI Z-Score)\")\n",
    "print(combined_zscores)\n",
    "\n",
    "# Interpretation: Check if z-scores are within reasonable bounds (abs < 2 is normal)\n",
    "print(\"Interpretation of Z-Scores:\")\n",
    "# Loop through each row in the sorted data\n",
    "for _, row in combined_zscores.iterrows():\n",
    "    interpretation = \"\"  # Initialize interpretation for each row\n",
    "\n",
    "    # Interpret ^NSEI Z-Score\n",
    "    if row['^NSEI Z-Score'] > 0:\n",
    "        interpretation += \" | ^NSEI Z-Score is greater than the mean\"\n",
    "    elif row['^NSEI Z-Score'] < 0:\n",
    "        interpretation += \" | ^NSEI Z-Score is less than the mean\"\n",
    "    else:\n",
    "        interpretation += \" | ^NSEI Z-Score is equal to the mean\"\n",
    "\n",
    "    # Interpret BAJAJFINSV.NS Z-Score\n",
    "    if row['BAJAJFINSV.NS Z-Score'] > 0:\n",
    "        interpretation += \" | BAJAJFINSV.NS Z-Score is greater than the mean\"\n",
    "    elif row['BAJAJFINSV.NS Z-Score'] < 0:\n",
    "        interpretation += \" | BAJAJFINSV.NS Z-Score is less than the mean\"\n",
    "    else:\n",
    "        interpretation += \" | BAJAJFINSV.NS Z-Score is equal to the mean\"\n",
    "\n",
    "    # Print the interpretation for each row\n",
    "    print(f\"Interpretation: {interpretation}\")\n"
   ]
  },
  {
   "cell_type": "code",
   "execution_count": null,
   "id": "5990912b-2483-45b2-a245-fe0941e9425e",
   "metadata": {},
   "outputs": [],
   "source": []
  }
 ],
 "metadata": {
  "kernelspec": {
   "display_name": "Python 3 (ipykernel)",
   "language": "python",
   "name": "python3"
  },
  "language_info": {
   "codemirror_mode": {
    "name": "ipython",
    "version": 3
   },
   "file_extension": ".py",
   "mimetype": "text/x-python",
   "name": "python",
   "nbconvert_exporter": "python",
   "pygments_lexer": "ipython3",
   "version": "3.12.4"
  }
 },
 "nbformat": 4,
 "nbformat_minor": 5
}
